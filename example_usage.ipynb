{
 "cells": [
  {
   "cell_type": "markdown",
   "id": "0d314e1b",
   "metadata": {},
   "source": [
    "Example Usage (Notebook)\n",
    "\n",
    "This notebook provides:\n",
    "- Setup and config validation\n",
    "- Single-series demo\n",
    "- Real-data subset demo from `X_train.parquet` (first N series)\n",
    "\n",
    "Edit `INPUT_PARQUET` and `NUM_SERIES` as needed.\n"
   ]
  },
  {
   "cell_type": "code",
   "execution_count": 3,
   "id": "a7990a8d",
   "metadata": {},
   "outputs": [
    {
     "data": {
      "text/plain": [
       "0"
      ]
     },
     "execution_count": 3,
     "metadata": {},
     "output_type": "execute_result"
    }
   ],
   "source": [
    "# Setup: Install required packages first\n",
    "# Run this in terminal: pip install -r requirements.txt\n",
    "# Or run this cell to install automatically:\n",
    "import subprocess\n",
    "import sys\n",
    "subprocess.check_call([sys.executable, \"-m\", \"pip\", \"install\", \"-r\", \"requirements.txt\"])"
   ]
  },
  {
   "cell_type": "code",
   "execution_count": null,
   "id": "9d4e6043",
   "metadata": {},
   "outputs": [],
   "source": [
    "# Setup: import from local package and validate config\n",
    "import sys, pathlib\n",
    "\n",
    "project_root = pathlib.Path().resolve()\n",
    "parent_dir = project_root\n",
    "if str(parent_dir) not in sys.path:\n",
    "    sys.path.insert(0, str(parent_dir))\n",
    "\n",
    "from StructualBreak import compute_predictors_for_values, run_batch, validate_config\n",
    "validate_config()\n",
    "print(\"Imports OK and config validated.\")\n"
   ]
  },
  {
   "cell_type": "code",
   "execution_count": 2,
   "id": "bf9ead43",
   "metadata": {},
   "outputs": [
    {
     "name": "stdout",
     "output_type": "stream",
     "text": [
      "{'p_mu_lag1': 1.0, 'p_sigma_lag1': 0.5714, 'overlap_frac_lag1': 0.475, 'p_mu_vol': 1.0, 'p_sigma_vol': 0.7143, 'overlap_frac_vol': 0.475, 'p_mu_resid_lag1': 1.0, 'p_sigma_resid_lag1': 0.8571, 'overlap_frac_resid_lag1': 0.4, 'p_mean': 0.0, 'p_var': 0.0034, 'p_MWU': 0.0, 'p_energy': nan, 'acf_absdiff_l1': 0.3219}\n"
     ]
    },
    {
     "data": {
      "text/plain": [
       "{'n_total_lag1': 119,\n",
       " 'n_p0_lag1': 59,\n",
       " 'n_p1_lag1': 60,\n",
       " 'n_total_vol': 118,\n",
       " 'n_p0_vol': 58,\n",
       " 'n_p1_vol': 60,\n",
       " 'n_period0': 59,\n",
       " 'n_period1': 60,\n",
       " 'n_total': 119}"
      ]
     },
     "execution_count": 2,
     "metadata": {},
     "output_type": "execute_result"
    }
   ],
   "source": [
    "# Single-series demo\n",
    "import numpy as np\n",
    "\n",
    "np.random.seed(42)\n",
    "n = 120\n",
    "break_point = 60\n",
    "values = np.concatenate([\n",
    "    np.random.normal(0, 1.0, break_point),\n",
    "    np.random.normal(1.5, 1.5, n - break_point),\n",
    "])\n",
    "periods = np.concatenate([np.zeros(break_point), np.ones(n - break_point)])\n",
    "\n",
    "preds, meta = compute_predictors_for_values(values, periods, B_boot=20, energy_enable=False)\n",
    "print({k: round(v, 4) for k, v in preds.items()})\n",
    "meta\n"
   ]
  },
  {
   "cell_type": "code",
   "execution_count": 5,
   "id": "5734d594",
   "metadata": {},
   "outputs": [
    {
     "name": "stdout",
     "output_type": "stream",
     "text": [
      "Reading: C:\\Users\\yehud\\Downloads\\X_train.parquet\n"
     ]
    },
    {
     "name": "stderr",
     "output_type": "stream",
     "text": [
      "INFO:StructualBreak.batch_processor:Loading _tmp_notebook_example\\subset_X_train.parquet\n",
      "INFO:StructualBreak.batch_processor:Total series: 5\n"
     ]
    },
    {
     "name": "stdout",
     "output_type": "stream",
     "text": [
      "Total unique ids: 10001; taking first 5\n"
     ]
    },
    {
     "name": "stderr",
     "output_type": "stream",
     "text": [
      "Extracting predictors: 100%|██████████| 5/5 [00:03<00:00,  1.37it/s]\n",
      "INFO:StructualBreak.batch_processor:Saved predictors to: _tmp_notebook_example\\subset_predictors.csv\n",
      "INFO:StructualBreak.batch_processor:Saved metadata to: _tmp_notebook_example\\subset_metadata.csv\n"
     ]
    },
    {
     "name": "stdout",
     "output_type": "stream",
     "text": [
      "Saved predictors to: _tmp_notebook_example\\subset_predictors.csv\n",
      "Saved metadata to: _tmp_notebook_example\\subset_metadata.csv\n",
      "Predictors shape: (5, 14)\n",
      "Metadata shape: (5, 9)\n"
     ]
    },
    {
     "data": {
      "text/html": [
       "<div>\n",
       "<style scoped>\n",
       "    .dataframe tbody tr th:only-of-type {\n",
       "        vertical-align: middle;\n",
       "    }\n",
       "\n",
       "    .dataframe tbody tr th {\n",
       "        vertical-align: top;\n",
       "    }\n",
       "\n",
       "    .dataframe thead th {\n",
       "        text-align: right;\n",
       "    }\n",
       "</style>\n",
       "<table border=\"1\" class=\"dataframe\">\n",
       "  <thead>\n",
       "    <tr style=\"text-align: right;\">\n",
       "      <th></th>\n",
       "      <th>p_mu_lag1</th>\n",
       "      <th>p_sigma_lag1</th>\n",
       "      <th>overlap_frac_lag1</th>\n",
       "      <th>p_mu_vol</th>\n",
       "      <th>p_sigma_vol</th>\n",
       "      <th>overlap_frac_vol</th>\n",
       "      <th>p_mu_resid_lag1</th>\n",
       "      <th>p_sigma_resid_lag1</th>\n",
       "      <th>overlap_frac_resid_lag1</th>\n",
       "      <th>p_mean</th>\n",
       "      <th>p_var</th>\n",
       "      <th>p_MWU</th>\n",
       "      <th>p_energy</th>\n",
       "      <th>acf_absdiff_l1</th>\n",
       "    </tr>\n",
       "    <tr>\n",
       "      <th>id</th>\n",
       "      <th></th>\n",
       "      <th></th>\n",
       "      <th></th>\n",
       "      <th></th>\n",
       "      <th></th>\n",
       "      <th></th>\n",
       "      <th></th>\n",
       "      <th></th>\n",
       "      <th></th>\n",
       "      <th></th>\n",
       "      <th></th>\n",
       "      <th></th>\n",
       "      <th></th>\n",
       "      <th></th>\n",
       "    </tr>\n",
       "  </thead>\n",
       "  <tbody>\n",
       "    <tr>\n",
       "      <th>0</th>\n",
       "      <td>0.666667</td>\n",
       "      <td>0.714286</td>\n",
       "      <td>1.0</td>\n",
       "      <td>0.761905</td>\n",
       "      <td>0.761905</td>\n",
       "      <td>1.0</td>\n",
       "      <td>0.809524</td>\n",
       "      <td>0.761905</td>\n",
       "      <td>1.0</td>\n",
       "      <td>0.977803</td>\n",
       "      <td>7.211479e-01</td>\n",
       "      <td>0.999243</td>\n",
       "      <td>NaN</td>\n",
       "      <td>0.115726</td>\n",
       "    </tr>\n",
       "    <tr>\n",
       "      <th>1</th>\n",
       "      <td>0.238095</td>\n",
       "      <td>0.714286</td>\n",
       "      <td>1.0</td>\n",
       "      <td>0.238095</td>\n",
       "      <td>0.714286</td>\n",
       "      <td>1.0</td>\n",
       "      <td>0.238095</td>\n",
       "      <td>0.714286</td>\n",
       "      <td>1.0</td>\n",
       "      <td>0.099297</td>\n",
       "      <td>2.067381e-08</td>\n",
       "      <td>0.197171</td>\n",
       "      <td>NaN</td>\n",
       "      <td>0.246053</td>\n",
       "    </tr>\n",
       "    <tr>\n",
       "      <th>2</th>\n",
       "      <td>0.190476</td>\n",
       "      <td>0.523810</td>\n",
       "      <td>1.0</td>\n",
       "      <td>0.523810</td>\n",
       "      <td>0.952381</td>\n",
       "      <td>1.0</td>\n",
       "      <td>0.190476</td>\n",
       "      <td>0.571429</td>\n",
       "      <td>1.0</td>\n",
       "      <td>0.193963</td>\n",
       "      <td>1.638906e-11</td>\n",
       "      <td>0.117482</td>\n",
       "      <td>NaN</td>\n",
       "      <td>0.361295</td>\n",
       "    </tr>\n",
       "    <tr>\n",
       "      <th>3</th>\n",
       "      <td>0.952381</td>\n",
       "      <td>0.476190</td>\n",
       "      <td>1.0</td>\n",
       "      <td>0.952381</td>\n",
       "      <td>0.476190</td>\n",
       "      <td>1.0</td>\n",
       "      <td>0.952381</td>\n",
       "      <td>0.476190</td>\n",
       "      <td>1.0</td>\n",
       "      <td>0.869832</td>\n",
       "      <td>2.229744e-03</td>\n",
       "      <td>0.584118</td>\n",
       "      <td>NaN</td>\n",
       "      <td>0.099213</td>\n",
       "    </tr>\n",
       "    <tr>\n",
       "      <th>4</th>\n",
       "      <td>0.857143</td>\n",
       "      <td>0.523810</td>\n",
       "      <td>1.0</td>\n",
       "      <td>0.857143</td>\n",
       "      <td>0.523810</td>\n",
       "      <td>1.0</td>\n",
       "      <td>0.857143</td>\n",
       "      <td>0.952381</td>\n",
       "      <td>1.0</td>\n",
       "      <td>0.829085</td>\n",
       "      <td>4.636402e-01</td>\n",
       "      <td>0.888068</td>\n",
       "      <td>NaN</td>\n",
       "      <td>0.186666</td>\n",
       "    </tr>\n",
       "  </tbody>\n",
       "</table>\n",
       "</div>"
      ],
      "text/plain": [
       "    p_mu_lag1  p_sigma_lag1  overlap_frac_lag1  p_mu_vol  p_sigma_vol  \\\n",
       "id                                                                      \n",
       "0    0.666667      0.714286                1.0  0.761905     0.761905   \n",
       "1    0.238095      0.714286                1.0  0.238095     0.714286   \n",
       "2    0.190476      0.523810                1.0  0.523810     0.952381   \n",
       "3    0.952381      0.476190                1.0  0.952381     0.476190   \n",
       "4    0.857143      0.523810                1.0  0.857143     0.523810   \n",
       "\n",
       "    overlap_frac_vol  p_mu_resid_lag1  p_sigma_resid_lag1  \\\n",
       "id                                                          \n",
       "0                1.0         0.809524            0.761905   \n",
       "1                1.0         0.238095            0.714286   \n",
       "2                1.0         0.190476            0.571429   \n",
       "3                1.0         0.952381            0.476190   \n",
       "4                1.0         0.857143            0.952381   \n",
       "\n",
       "    overlap_frac_resid_lag1    p_mean         p_var     p_MWU  p_energy  \\\n",
       "id                                                                        \n",
       "0                       1.0  0.977803  7.211479e-01  0.999243       NaN   \n",
       "1                       1.0  0.099297  2.067381e-08  0.197171       NaN   \n",
       "2                       1.0  0.193963  1.638906e-11  0.117482       NaN   \n",
       "3                       1.0  0.869832  2.229744e-03  0.584118       NaN   \n",
       "4                       1.0  0.829085  4.636402e-01  0.888068       NaN   \n",
       "\n",
       "    acf_absdiff_l1  \n",
       "id                  \n",
       "0         0.115726  \n",
       "1         0.246053  \n",
       "2         0.361295  \n",
       "3         0.099213  \n",
       "4         0.186666  "
      ]
     },
     "execution_count": 5,
     "metadata": {},
     "output_type": "execute_result"
    }
   ],
   "source": [
    "# Real-data subset demo (edit the path below)\n",
    "from pathlib import Path\n",
    "import pandas as pd\n",
    "\n",
    "INPUT_PARQUET = r\"C:\\Users\\yehud\\Downloads\\X_train.parquet\"  # <- change if needed\n",
    "NUM_SERIES = 5  # take first N series by id\n",
    "\n",
    "print(\"Reading:\", INPUT_PARQUET)\n",
    "df = pd.read_parquet(INPUT_PARQUET)\n",
    "\n",
    "unique_ids = df.index.get_level_values(\"id\").unique()\n",
    "take_ids = list(unique_ids[: max(1, NUM_SERIES)])\n",
    "sub_df = df.loc[df.index.get_level_values(\"id\").isin(take_ids)].sort_index()\n",
    "print(f\"Total unique ids: {len(unique_ids)}; taking first {len(take_ids)}\")\n",
    "\n",
    "out_dir = Path(\"_tmp_notebook_example\"); out_dir.mkdir(exist_ok=True)\n",
    "subset_in = out_dir / \"subset_X_train.parquet\"\n",
    "# Write CSV outputs\n",
    "out_pred = out_dir / \"subset_predictors.csv\"\n",
    "out_meta = out_dir / \"subset_metadata.csv\"\n",
    "sub_df.to_parquet(subset_in)\n",
    "\n",
    "pred_df, meta_df = run_batch(\n",
    "    input_parquet=str(subset_in),\n",
    "    out_pred_parquet=str(out_pred),\n",
    "    out_meta_parquet=str(out_meta),\n",
    "    B_boot=20,\n",
    "    energy_enable=False,\n",
    "    n_jobs=1,\n",
    "    verbose=True,\n",
    ")\n",
    "\n",
    "print(\"Saved predictors to:\", out_pred)\n",
    "print(\"Saved metadata to:\", out_meta)\n",
    "print(\"Predictors shape:\", pred_df.shape)\n",
    "print(\"Metadata shape:\", meta_df.shape)\n",
    "pred_df.head()\n"
   ]
  }
 ],
 "metadata": {
  "kernelspec": {
   "display_name": "Python 3",
   "language": "python",
   "name": "python3"
  },
  "language_info": {
   "codemirror_mode": {
    "name": "ipython",
    "version": 3
   },
   "file_extension": ".py",
   "mimetype": "text/x-python",
   "name": "python",
   "nbconvert_exporter": "python",
   "pygments_lexer": "ipython3",
   "version": "3.11.9"
  }
 },
 "nbformat": 4,
 "nbformat_minor": 5
}
