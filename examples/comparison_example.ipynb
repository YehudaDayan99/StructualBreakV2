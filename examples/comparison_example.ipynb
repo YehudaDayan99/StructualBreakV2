{
 "cells": [
  {
   "cell_type": "markdown",
   "metadata": {},
   "source": [
    "# Method Comparison Example\n",
    "\n",
    "This notebook compares the Roy24 and Wavelet21 methods for structural breakpoint detection on various types of time series.\n"
   ]
  },
  {
   "cell_type": "code",
   "execution_count": null,
   "metadata": {},
   "outputs": [],
   "source": [
    "# Setup: import from local package (fixed path)\n",
    "import sys, pathlib\n",
    "import numpy as np\n",
    "import pandas as pd\n",
    "import matplotlib.pyplot as plt\n",
    "from pathlib import Path\n",
    "\n",
    "# Add the parent of the repository root to sys.path so `StructualBreakV2` is importable\n",
    "repo_parent = pathlib.Path().resolve().parent.parent\n",
    "if str(repo_parent) not in sys.path:\n",
    "    sys.path.insert(0, str(repo_parent))\n",
    "\n",
    "from StructualBreakV2 import compute_predictors_for_values, Roy24Method, Wavelet21Method\n",
    "print(\"Imports OK.\")\n"
   ]
  }
 ],
 "metadata": {
  "language_info": {
   "name": "python"
  }
 },
 "nbformat": 4,
 "nbformat_minor": 2
}
