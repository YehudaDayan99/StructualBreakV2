{
 "cells": [
  {
   "cell_type": "code",
   "execution_count": null,
   "id": "0",
   "metadata": {},
   "outputs": [],
   "source": [
    "!pip install -U pip setuptools wheel\n",
    "!pip install -r ../requirements.txt\n"
   ]
  },
  {
   "cell_type": "markdown",
   "id": "1",
   "metadata": {},
   "source": [
    "Example Usage (Notebook)\n",
    "\n",
    "This notebook provides:\n",
    "- Setup and config validation\n",
    "- Single-series demo\n",
    "- Real-data subset demo from `X_train.parquet` (first N series)\n",
    "\n",
    "Edit `INPUT_PARQUET` and `NUM_SERIES` as needed.\n"
   ]
  },
  {
   "cell_type": "code",
   "execution_count": null,
   "id": "2",
   "metadata": {},
   "outputs": [],
   "source": [
    "# Setup: Install required packages first\n",
    "# Run this in terminal: pip install -r requirements.txt\n",
    "# Or run this cell to install automatically:\n",
    "import subprocess\n",
    "import sys\n",
    "subprocess.check_call([sys.executable, \"-m\", \"pip\", \"install\", \"-r\", \"requirements.txt\"])"
   ]
  },
  {
   "cell_type": "code",
   "execution_count": null,
   "id": "3",
   "metadata": {},
   "outputs": [],
   "source": [
    "# Setup: import from local package and validate config\n",
    "import sys, pathlib\n",
    "\n",
    "project_root = pathlib.Path().resolve()\n",
    "parent_dir = project_root\n",
    "if str(parent_dir) not in sys.path:\n",
    "    sys.path.insert(0, str(parent_dir))\n",
    "\n",
    "from StructualBreak import compute_predictors_for_values, run_batch, validate_config\n",
    "validate_config()\n",
    "print(\"Imports OK and config validated.\")\n"
   ]
  },
  {
   "cell_type": "code",
   "execution_count": null,
   "id": "4",
   "metadata": {},
   "outputs": [],
   "source": [
    "# Single-series demo\n",
    "import numpy as np\n",
    "\n",
    "np.random.seed(42)\n",
    "n = 120\n",
    "break_point = 60\n",
    "values = np.concatenate([\n",
    "    np.random.normal(0, 1.0, break_point),\n",
    "    np.random.normal(1.5, 1.5, n - break_point),\n",
    "])\n",
    "periods = np.concatenate([np.zeros(break_point), np.ones(n - break_point)])\n",
    "\n",
    "preds, meta = compute_predictors_for_values(values, periods, B_boot=20, energy_enable=False)\n",
    "print({k: round(v, 4) for k, v in preds.items()})\n",
    "meta\n"
   ]
  },
  {
   "cell_type": "code",
   "execution_count": null,
   "id": "5",
   "metadata": {},
   "outputs": [],
   "source": [
    "# Real-data subset demo (edit the path below)\n",
    "from pathlib import Path\n",
    "import pandas as pd\n",
    "\n",
    "INPUT_PARQUET = r\"C:\\Users\\yehud\\Downloads\\X_train.parquet\"  # <- change if needed\n",
    "NUM_SERIES = 5  # take first N series by id\n",
    "\n",
    "print(\"Reading:\", INPUT_PARQUET)\n",
    "df = pd.read_parquet(INPUT_PARQUET)\n",
    "\n",
    "unique_ids = df.index.get_level_values(\"id\").unique()\n",
    "take_ids = list(unique_ids[: max(1, NUM_SERIES)])\n",
    "sub_df = df.loc[df.index.get_level_values(\"id\").isin(take_ids)].sort_index()\n",
    "print(f\"Total unique ids: {len(unique_ids)}; taking first {len(take_ids)}\")\n",
    "\n",
    "out_dir = Path(\"_tmp_notebook_example\"); out_dir.mkdir(exist_ok=True)\n",
    "subset_in = out_dir / \"subset_X_train.parquet\"\n",
    "# Write CSV outputs\n",
    "out_pred = out_dir / \"subset_predictors.csv\"\n",
    "out_meta = out_dir / \"subset_metadata.csv\"\n",
    "sub_df.to_parquet(subset_in)\n",
    "\n",
    "pred_df, meta_df = run_batch(\n",
    "    input_parquet=str(subset_in),\n",
    "    out_pred_parquet=str(out_pred),\n",
    "    out_meta_parquet=str(out_meta),\n",
    "    B_boot=20,\n",
    "    energy_enable=False,\n",
    "    n_jobs=1,\n",
    "    verbose=True,\n",
    ")\n",
    "\n",
    "print(\"Saved predictors to:\", out_pred)\n",
    "print(\"Saved metadata to:\", out_meta)\n",
    "print(\"Predictors shape:\", pred_df.shape)\n",
    "print(\"Metadata shape:\", meta_df.shape)\n",
    "pred_df.head()\n"
   ]
  }
 ],
 "metadata": {
  "kernelspec": {
   "display_name": "Python 3",
   "language": "python",
   "name": "python3"
  },
  "language_info": {
   "codemirror_mode": {
    "name": "ipython",
    "version": 3
   },
   "file_extension": ".py",
   "mimetype": "text/x-python",
   "name": "python",
   "nbconvert_exporter": "python",
   "pygments_lexer": "ipython3",
   "version": "3.11.9"
  }
 },
 "nbformat": 4,
 "nbformat_minor": 5
}
