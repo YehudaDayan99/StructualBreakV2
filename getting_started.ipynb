{
  "cells": [
    {
      "cell_type": "markdown",
      "metadata": {},
      "source": [
        "Getting Started – Running the CLI (`main.py`)\n",
        "\n",
        "This section focuses on running the main entrypoint in different ways and with different control parameters.\n"
      ]
    },
    {
      "cell_type": "markdown",
      "metadata": {},
      "source": [
        "CLI usage examples\n",
        "\n",
        "Run from the repo root (PowerShell):\n",
        "\n",
        "```powershell\n",
        "# Minimal\n",
        "python .\\main.py --input X_train.parquet --output-pred X_train_predictors.parquet --output-meta X_train_metadata.parquet\n",
        "\n",
        "# More bootstrap reps, verbose\n",
        "python .\\main.py -i X_train.parquet -op X_train_predictors.parquet -om X_train_metadata.parquet -b 120 -v\n",
        "\n",
        "# Enable energy tests with custom permutations and max-n\n",
        "python .\\main.py -i X_train.parquet -op X_train_predictors.parquet -om X_train_metadata.parquet --energy-enable -ep 80 -emn 500\n",
        "\n",
        "# Limit parallelism and set seed\n",
        "python .\\main.py -i X_train.parquet -op X_train_predictors.parquet -om X_train_metadata.parquet -j 2 -s 42\n",
        "```\n"
      ]
    },
    {
      "cell_type": "code",
      "execution_count": null,
      "metadata": {},
      "outputs": [],
      "source": [
        "# Run main.py programmatically (no shell)\n",
        "import sys, subprocess\n",
        "\n",
        "def run_main(args):\n",
        "    cmd = [sys.executable, \"main.py\", *args]\n",
        "    print(\"Running:\", \" \".join(cmd))\n",
        "    result = subprocess.run(cmd, capture_output=False, check=True)\n",
        "\n",
        "# Example: minimal\n",
        "run_main([\"--input\", \"X_train.parquet\",\n",
        "          \"--output-pred\", \"X_train_predictors.parquet\",\n",
        "          \"--output-meta\", \"X_train_metadata.parquet\"])\n"
      ]
    },
    {
      "cell_type": "code",
      "execution_count": null,
      "metadata": {},
      "outputs": [],
      "source": [
        "# Parameter variations: loop through different configurations\n",
        "from itertools import product\n",
        "\n",
        "inputs = [\"X_train.parquet\"]\n",
        "boots = [40, 80]\n",
        "energy_flags = [False, True]\n",
        "energy_perms = [40]\n",
        "max_n = [400]\n",
        "seeds = [123, 42]\n",
        "\n",
        "for input_path, b, eflag, eperm, emn, seed in product(inputs, boots, energy_flags, energy_perms, max_n, seeds):\n",
        "    args = [\n",
        "        \"--input\", input_path,\n",
        "        \"--output-pred\", f\"predictors_b{b}_e{int(eflag)}_s{seed}.parquet\",\n",
        "        \"--output-meta\", f\"metadata_b{b}_e{int(eflag)}_s{seed}.parquet\",\n",
        "        \"--bootstrap\", str(b),\n",
        "        \"--seed\", str(seed)\n",
        "    ]\n",
        "    if eflag:\n",
        "        args += [\"--energy-enable\", \"--energy-perm\", str(eperm), \"--energy-max-n\", str(emn)]\n",
        "    run_main(args)\n"
      ]
    },
    {
      "cell_type": "markdown",
      "metadata": {},
      "source": [
        "## Parameter reference (selected)\n",
        "\n",
        "- `--input` / `-i`: Input Parquet path (schema: MultiIndex `[id, time]`, columns `value`, `period`).\n",
        "- `--output-pred` / `-op`: Output Parquet path for predictors.\n",
        "- `--output-meta` / `-om`: Output Parquet path for metadata.\n",
        "- `--bootstrap` / `-b`: Bootstrap replicates for conditional tests.\n",
        "- `--energy-enable`: Enable energy-distance test (slower).\n",
        "- `--energy-perm` / `-ep`: Permutations for energy test when enabled.\n",
        "- `--energy-max-n` / `-emn`: Max samples per period for energy test.\n",
        "- `--n-jobs` / `-j`: Parallel workers (defaults to CPU-1).\n",
        "- `--seed` / `-s`: Global seed.\n",
        "- `--verbose` / `-v`: Verbose logging.\n"
      ]
    }
  ],
  "metadata": {
    "kernelspec": {
      "display_name": ".venv",
      "language": "python",
      "name": "python3"
    },
    "language_info": {
      "codemirror_mode": {
        "name": "ipython",
        "version": 3
      },
      "file_extension": ".py",
      "mimetype": "text/x-python",
      "name": "python",
      "nbconvert_exporter": "python",
      "pygments_lexer": "ipython3",
      "version": "3.13.1"
    }
  },
  "nbformat": 4,
  "nbformat_minor": 2
}
